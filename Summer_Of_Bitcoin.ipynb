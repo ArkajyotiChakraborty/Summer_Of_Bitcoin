{
  "nbformat": 4,
  "nbformat_minor": 0,
  "metadata": {
    "colab": {
      "name": "Summer Of Bitcoin.ipynb",
      "provenance": [],
      "collapsed_sections": []
    },
    "kernelspec": {
      "name": "python3",
      "display_name": "Python 3"
    },
    "language_info": {
      "name": "python"
    }
  },
  "cells": [
    {
      "cell_type": "code",
      "metadata": {
        "id": "IvZvwdNkTGFs"
      },
      "source": [
        "import numpy as np \n",
        "import pandas as pd"
      ],
      "execution_count": 21,
      "outputs": []
    },
    {
      "cell_type": "code",
      "metadata": {
        "colab": {
          "base_uri": "https://localhost:8080/",
          "height": 402
        },
        "id": "Q8NjH0KYTPeT",
        "outputId": "a1f1ae89-3db8-4094-93d1-ccb4a2c3b2d2"
      },
      "source": [
        "url = 'https://raw.githubusercontent.com/ArkajyotiChakraborty/Summer_Of_Bitcoin/master/mempool.csv'\n",
        "df = pd.read_csv(url)\n",
        "df"
      ],
      "execution_count": 22,
      "outputs": [
        {
          "output_type": "execute_result",
          "data": {
            "text/html": [
              "<div>\n",
              "<style scoped>\n",
              "    .dataframe tbody tr th:only-of-type {\n",
              "        vertical-align: middle;\n",
              "    }\n",
              "\n",
              "    .dataframe tbody tr th {\n",
              "        vertical-align: top;\n",
              "    }\n",
              "\n",
              "    .dataframe thead th {\n",
              "        text-align: right;\n",
              "    }\n",
              "</style>\n",
              "<table border=\"1\" class=\"dataframe\">\n",
              "  <thead>\n",
              "    <tr style=\"text-align: right;\">\n",
              "      <th></th>\n",
              "      <th>tx_id</th>\n",
              "      <th>fee</th>\n",
              "      <th>weight</th>\n",
              "      <th>parents</th>\n",
              "    </tr>\n",
              "  </thead>\n",
              "  <tbody>\n",
              "    <tr>\n",
              "      <th>0</th>\n",
              "      <td>2e3da8fbc1eaca8ed9b7c2db9e6545d8ccac3c67deadee...</td>\n",
              "      <td>452</td>\n",
              "      <td>1620</td>\n",
              "      <td>NaN</td>\n",
              "    </tr>\n",
              "    <tr>\n",
              "      <th>1</th>\n",
              "      <td>79c51c9d4124c5cbb37a85263748dcf44e182dff83561f...</td>\n",
              "      <td>682</td>\n",
              "      <td>1136</td>\n",
              "      <td>6eb38fad135e38a93cb47a15a5f953cbc0563fd84bf1ab...</td>\n",
              "    </tr>\n",
              "    <tr>\n",
              "      <th>2</th>\n",
              "      <td>b0ef627c8dc2a706475d33d7712209ec779f7a8302aaea...</td>\n",
              "      <td>226</td>\n",
              "      <td>900</td>\n",
              "      <td>NaN</td>\n",
              "    </tr>\n",
              "    <tr>\n",
              "      <th>3</th>\n",
              "      <td>8c25f9be93990b96e8bc363778d6debee6867c7d73cefa...</td>\n",
              "      <td>258</td>\n",
              "      <td>1032</td>\n",
              "      <td>NaN</td>\n",
              "    </tr>\n",
              "    <tr>\n",
              "      <th>4</th>\n",
              "      <td>edc82751537be6afcb21c0229d8d20916d8e742a363ab2...</td>\n",
              "      <td>452</td>\n",
              "      <td>1616</td>\n",
              "      <td>NaN</td>\n",
              "    </tr>\n",
              "    <tr>\n",
              "      <th>...</th>\n",
              "      <td>...</td>\n",
              "      <td>...</td>\n",
              "      <td>...</td>\n",
              "      <td>...</td>\n",
              "    </tr>\n",
              "    <tr>\n",
              "      <th>5209</th>\n",
              "      <td>e0b5d2fe598fccdd716df743323346da227dfc9d2a6c3e...</td>\n",
              "      <td>850</td>\n",
              "      <td>568</td>\n",
              "      <td>NaN</td>\n",
              "    </tr>\n",
              "    <tr>\n",
              "      <th>5210</th>\n",
              "      <td>e33973618a9774aeb85548368efeaddb206ef206717e72...</td>\n",
              "      <td>1496</td>\n",
              "      <td>1488</td>\n",
              "      <td>NaN</td>\n",
              "    </tr>\n",
              "    <tr>\n",
              "      <th>5211</th>\n",
              "      <td>88a8c7118ac82199523eb10670f49c8b7f5ac82d404907...</td>\n",
              "      <td>1121</td>\n",
              "      <td>900</td>\n",
              "      <td>33c7c7bcb1cc07743fc3240cac6af31e4d4a8f535cae71...</td>\n",
              "    </tr>\n",
              "    <tr>\n",
              "      <th>5212</th>\n",
              "      <td>4c5b18c0870665958fc2a377e425b70f8d01f03395af72...</td>\n",
              "      <td>862</td>\n",
              "      <td>576</td>\n",
              "      <td>NaN</td>\n",
              "    </tr>\n",
              "    <tr>\n",
              "      <th>5213</th>\n",
              "      <td>631dee801c00241fc61bccc56112cf7670ce7150f4c642...</td>\n",
              "      <td>850</td>\n",
              "      <td>568</td>\n",
              "      <td>NaN</td>\n",
              "    </tr>\n",
              "  </tbody>\n",
              "</table>\n",
              "<p>5214 rows × 4 columns</p>\n",
              "</div>"
            ],
            "text/plain": [
              "                                                  tx_id  ...                                           parents \n",
              "0     2e3da8fbc1eaca8ed9b7c2db9e6545d8ccac3c67deadee...  ...                                                NaN\n",
              "1     79c51c9d4124c5cbb37a85263748dcf44e182dff83561f...  ...  6eb38fad135e38a93cb47a15a5f953cbc0563fd84bf1ab...\n",
              "2     b0ef627c8dc2a706475d33d7712209ec779f7a8302aaea...  ...                                                NaN\n",
              "3     8c25f9be93990b96e8bc363778d6debee6867c7d73cefa...  ...                                                NaN\n",
              "4     edc82751537be6afcb21c0229d8d20916d8e742a363ab2...  ...                                                NaN\n",
              "...                                                 ...  ...                                                ...\n",
              "5209  e0b5d2fe598fccdd716df743323346da227dfc9d2a6c3e...  ...                                                NaN\n",
              "5210  e33973618a9774aeb85548368efeaddb206ef206717e72...  ...                                                NaN\n",
              "5211  88a8c7118ac82199523eb10670f49c8b7f5ac82d404907...  ...  33c7c7bcb1cc07743fc3240cac6af31e4d4a8f535cae71...\n",
              "5212  4c5b18c0870665958fc2a377e425b70f8d01f03395af72...  ...                                                NaN\n",
              "5213  631dee801c00241fc61bccc56112cf7670ce7150f4c642...  ...                                                NaN\n",
              "\n",
              "[5214 rows x 4 columns]"
            ]
          },
          "metadata": {
            "tags": []
          },
          "execution_count": 22
        }
      ]
    },
    {
      "cell_type": "code",
      "metadata": {
        "colab": {
          "base_uri": "https://localhost:8080/",
          "height": 402
        },
        "id": "yYX67yDZezjm",
        "outputId": "aed59494-4a35-4d25-9374-50e7b1f0a8b0"
      },
      "source": [
        "df3 = df[df['parents '].isna()]\n",
        "df3"
      ],
      "execution_count": 23,
      "outputs": [
        {
          "output_type": "execute_result",
          "data": {
            "text/html": [
              "<div>\n",
              "<style scoped>\n",
              "    .dataframe tbody tr th:only-of-type {\n",
              "        vertical-align: middle;\n",
              "    }\n",
              "\n",
              "    .dataframe tbody tr th {\n",
              "        vertical-align: top;\n",
              "    }\n",
              "\n",
              "    .dataframe thead th {\n",
              "        text-align: right;\n",
              "    }\n",
              "</style>\n",
              "<table border=\"1\" class=\"dataframe\">\n",
              "  <thead>\n",
              "    <tr style=\"text-align: right;\">\n",
              "      <th></th>\n",
              "      <th>tx_id</th>\n",
              "      <th>fee</th>\n",
              "      <th>weight</th>\n",
              "      <th>parents</th>\n",
              "    </tr>\n",
              "  </thead>\n",
              "  <tbody>\n",
              "    <tr>\n",
              "      <th>0</th>\n",
              "      <td>2e3da8fbc1eaca8ed9b7c2db9e6545d8ccac3c67deadee...</td>\n",
              "      <td>452</td>\n",
              "      <td>1620</td>\n",
              "      <td>NaN</td>\n",
              "    </tr>\n",
              "    <tr>\n",
              "      <th>2</th>\n",
              "      <td>b0ef627c8dc2a706475d33d7712209ec779f7a8302aaea...</td>\n",
              "      <td>226</td>\n",
              "      <td>900</td>\n",
              "      <td>NaN</td>\n",
              "    </tr>\n",
              "    <tr>\n",
              "      <th>3</th>\n",
              "      <td>8c25f9be93990b96e8bc363778d6debee6867c7d73cefa...</td>\n",
              "      <td>258</td>\n",
              "      <td>1032</td>\n",
              "      <td>NaN</td>\n",
              "    </tr>\n",
              "    <tr>\n",
              "      <th>4</th>\n",
              "      <td>edc82751537be6afcb21c0229d8d20916d8e742a363ab2...</td>\n",
              "      <td>452</td>\n",
              "      <td>1616</td>\n",
              "      <td>NaN</td>\n",
              "    </tr>\n",
              "    <tr>\n",
              "      <th>6</th>\n",
              "      <td>d506243d15088e94cf5300c55c67889d61f798750f6c59...</td>\n",
              "      <td>285</td>\n",
              "      <td>1132</td>\n",
              "      <td>NaN</td>\n",
              "    </tr>\n",
              "    <tr>\n",
              "      <th>...</th>\n",
              "      <td>...</td>\n",
              "      <td>...</td>\n",
              "      <td>...</td>\n",
              "      <td>...</td>\n",
              "    </tr>\n",
              "    <tr>\n",
              "      <th>5208</th>\n",
              "      <td>4059913e477fc7bbb918ca3c258a96f61bedda5b12ba91...</td>\n",
              "      <td>862</td>\n",
              "      <td>576</td>\n",
              "      <td>NaN</td>\n",
              "    </tr>\n",
              "    <tr>\n",
              "      <th>5209</th>\n",
              "      <td>e0b5d2fe598fccdd716df743323346da227dfc9d2a6c3e...</td>\n",
              "      <td>850</td>\n",
              "      <td>568</td>\n",
              "      <td>NaN</td>\n",
              "    </tr>\n",
              "    <tr>\n",
              "      <th>5210</th>\n",
              "      <td>e33973618a9774aeb85548368efeaddb206ef206717e72...</td>\n",
              "      <td>1496</td>\n",
              "      <td>1488</td>\n",
              "      <td>NaN</td>\n",
              "    </tr>\n",
              "    <tr>\n",
              "      <th>5212</th>\n",
              "      <td>4c5b18c0870665958fc2a377e425b70f8d01f03395af72...</td>\n",
              "      <td>862</td>\n",
              "      <td>576</td>\n",
              "      <td>NaN</td>\n",
              "    </tr>\n",
              "    <tr>\n",
              "      <th>5213</th>\n",
              "      <td>631dee801c00241fc61bccc56112cf7670ce7150f4c642...</td>\n",
              "      <td>850</td>\n",
              "      <td>568</td>\n",
              "      <td>NaN</td>\n",
              "    </tr>\n",
              "  </tbody>\n",
              "</table>\n",
              "<p>3214 rows × 4 columns</p>\n",
              "</div>"
            ],
            "text/plain": [
              "                                                  tx_id   fee  weight parents \n",
              "0     2e3da8fbc1eaca8ed9b7c2db9e6545d8ccac3c67deadee...   452    1620      NaN\n",
              "2     b0ef627c8dc2a706475d33d7712209ec779f7a8302aaea...   226     900      NaN\n",
              "3     8c25f9be93990b96e8bc363778d6debee6867c7d73cefa...   258    1032      NaN\n",
              "4     edc82751537be6afcb21c0229d8d20916d8e742a363ab2...   452    1616      NaN\n",
              "6     d506243d15088e94cf5300c55c67889d61f798750f6c59...   285    1132      NaN\n",
              "...                                                 ...   ...     ...      ...\n",
              "5208  4059913e477fc7bbb918ca3c258a96f61bedda5b12ba91...   862     576      NaN\n",
              "5209  e0b5d2fe598fccdd716df743323346da227dfc9d2a6c3e...   850     568      NaN\n",
              "5210  e33973618a9774aeb85548368efeaddb206ef206717e72...  1496    1488      NaN\n",
              "5212  4c5b18c0870665958fc2a377e425b70f8d01f03395af72...   862     576      NaN\n",
              "5213  631dee801c00241fc61bccc56112cf7670ce7150f4c642...   850     568      NaN\n",
              "\n",
              "[3214 rows x 4 columns]"
            ]
          },
          "metadata": {
            "tags": []
          },
          "execution_count": 23
        }
      ]
    },
    {
      "cell_type": "code",
      "metadata": {
        "colab": {
          "base_uri": "https://localhost:8080/"
        },
        "id": "4dknW9qTTcVL",
        "outputId": "5a191600-5aa2-4302-9f05-f293a790c526"
      },
      "source": [
        "# checking the NAN values in the dataset. \n",
        "Count_NAN = df['parents '].isna().sum()\n",
        "Count_NAN"
      ],
      "execution_count": 24,
      "outputs": [
        {
          "output_type": "execute_result",
          "data": {
            "text/plain": [
              "3214"
            ]
          },
          "metadata": {
            "tags": []
          },
          "execution_count": 24
        }
      ]
    },
    {
      "cell_type": "code",
      "metadata": {
        "colab": {
          "base_uri": "https://localhost:8080/"
        },
        "id": "TUL50edrYj0M",
        "outputId": "81fd69ad-a29d-43da-dc90-685617b28361"
      },
      "source": [
        "#checking the duplicate values as mentioned in the problem statement. \n",
        "df2 = df.pivot_table(index = ['parents '], aggfunc='size')\n",
        "df2"
      ],
      "execution_count": 25,
      "outputs": [
        {
          "output_type": "execute_result",
          "data": {
            "text/plain": [
              "parents \n",
              "001eea6dae0bd5568542be629f5748cac3b5b52b24f1664486eb9f723f91c090    1\n",
              "00243d4ef03ea24716898389decbf00c1a8766e09698ac89d3d14051eaf994c6    2\n",
              "0035ba3017d7901a214139c1df20f916a51fb3b6bce7466cc3b59c801baecec8    1\n",
              "0038920c0fddf730dc1ae07e1084f189c267cd485019a1a6b48a8dc57cbdd421    1\n",
              "0066db2f7e0a3e261ebdf920ec816066702673d6a3e085fdf460e617546f15e0    1\n",
              "                                                                   ..\n",
              "ffb8e6c21479e00a053871da60007186f1078d89cecd02428e2c04b8164003b6    1\n",
              "ffc0bd2ef3122e9f7234aeabb53eac09303703723df777d1b4d3a9096e70defa    1\n",
              "ffcb043800faebbaa8a64ae3e54185ee73ef04425de828ded1756ecd6279328b    1\n",
              "ffd7ebe7c403c8b2cb3f009a7119a7b0a2d08f34aa7a8823fa0c983b1847bc8d    1\n",
              "ffea7a0e8ed92ae7f981965cbe6cc6e3a4ab2a9860f4b2a12767f43bac09ea44    1\n",
              "Length: 1990, dtype: int64"
            ]
          },
          "metadata": {
            "tags": []
          },
          "execution_count": 25
        }
      ]
    },
    {
      "cell_type": "code",
      "metadata": {
        "colab": {
          "base_uri": "https://localhost:8080/",
          "height": 402
        },
        "id": "i4Buoae4ZwaO",
        "outputId": "76309bc4-ff44-43c3-bc9c-7ab2541af737"
      },
      "source": [
        "# we can wintness there are duplicate values hence we can drop them and only take care of the original values. therefore drop the duplicate\n",
        "df.drop_duplicates(subset='parents ',keep = False,inplace=True)\n",
        "df"
      ],
      "execution_count": 26,
      "outputs": [
        {
          "output_type": "execute_result",
          "data": {
            "text/html": [
              "<div>\n",
              "<style scoped>\n",
              "    .dataframe tbody tr th:only-of-type {\n",
              "        vertical-align: middle;\n",
              "    }\n",
              "\n",
              "    .dataframe tbody tr th {\n",
              "        vertical-align: top;\n",
              "    }\n",
              "\n",
              "    .dataframe thead th {\n",
              "        text-align: right;\n",
              "    }\n",
              "</style>\n",
              "<table border=\"1\" class=\"dataframe\">\n",
              "  <thead>\n",
              "    <tr style=\"text-align: right;\">\n",
              "      <th></th>\n",
              "      <th>tx_id</th>\n",
              "      <th>fee</th>\n",
              "      <th>weight</th>\n",
              "      <th>parents</th>\n",
              "    </tr>\n",
              "  </thead>\n",
              "  <tbody>\n",
              "    <tr>\n",
              "      <th>1</th>\n",
              "      <td>79c51c9d4124c5cbb37a85263748dcf44e182dff83561f...</td>\n",
              "      <td>682</td>\n",
              "      <td>1136</td>\n",
              "      <td>6eb38fad135e38a93cb47a15a5f953cbc0563fd84bf1ab...</td>\n",
              "    </tr>\n",
              "    <tr>\n",
              "      <th>5</th>\n",
              "      <td>384718a612cc6b220a8eeaf36f9d179e70fe233e2e9068...</td>\n",
              "      <td>452</td>\n",
              "      <td>1616</td>\n",
              "      <td>edc82751537be6afcb21c0229d8d20916d8e742a363ab2...</td>\n",
              "    </tr>\n",
              "    <tr>\n",
              "      <th>21</th>\n",
              "      <td>3733a3ce668c18863252cf6baa3a1e6e6eaadb31768bb5...</td>\n",
              "      <td>366</td>\n",
              "      <td>1132</td>\n",
              "      <td>50d949aaf11386f7f073ead1dbd7c39d9604e3c993738a...</td>\n",
              "    </tr>\n",
              "    <tr>\n",
              "      <th>22</th>\n",
              "      <td>011d65e7eb10e378e7370399cda7af0db648d90c30ca28...</td>\n",
              "      <td>286</td>\n",
              "      <td>1136</td>\n",
              "      <td>e9729cc3da87c37f1a3cc11d8ad2b5c4e15dfc028dace8...</td>\n",
              "    </tr>\n",
              "    <tr>\n",
              "      <th>27</th>\n",
              "      <td>396b15f856ce55cba0a7d20af3a7b770bd4e1e66fa75de...</td>\n",
              "      <td>225</td>\n",
              "      <td>900</td>\n",
              "      <td>7ddb85d2922cda6c186f18e4b3f722b79a8c03f7dbf20e...</td>\n",
              "    </tr>\n",
              "    <tr>\n",
              "      <th>...</th>\n",
              "      <td>...</td>\n",
              "      <td>...</td>\n",
              "      <td>...</td>\n",
              "      <td>...</td>\n",
              "    </tr>\n",
              "    <tr>\n",
              "      <th>5171</th>\n",
              "      <td>f0d09ed4f5b853263a10811a7d7790e18ad4aeb861fa34...</td>\n",
              "      <td>3868</td>\n",
              "      <td>792</td>\n",
              "      <td>15a77c352fe0626402a09e7ffe914037935e5cb6445dbb...</td>\n",
              "    </tr>\n",
              "    <tr>\n",
              "      <th>5172</th>\n",
              "      <td>28698e7ac30ac290c7c3c832c2bf88a8be670ad22124b1...</td>\n",
              "      <td>756</td>\n",
              "      <td>892</td>\n",
              "      <td>895675cd32c7875b9e3d8a252b9ba6e7ce3fd1fa659c9c...</td>\n",
              "    </tr>\n",
              "    <tr>\n",
              "      <th>5179</th>\n",
              "      <td>e470cd82a5931ca8102411595f97e55ce361b0a596d058...</td>\n",
              "      <td>904</td>\n",
              "      <td>904</td>\n",
              "      <td>068a854ced4deba852d650f39a930661bb295e24866764...</td>\n",
              "    </tr>\n",
              "    <tr>\n",
              "      <th>5203</th>\n",
              "      <td>eeb8be5cacf39d24fc397912b39463350acf4786a451b7...</td>\n",
              "      <td>764</td>\n",
              "      <td>764</td>\n",
              "      <td>89ac04933f1e900b14a64d41fb9ee7448d026674039cc7...</td>\n",
              "    </tr>\n",
              "    <tr>\n",
              "      <th>5211</th>\n",
              "      <td>88a8c7118ac82199523eb10670f49c8b7f5ac82d404907...</td>\n",
              "      <td>1121</td>\n",
              "      <td>900</td>\n",
              "      <td>33c7c7bcb1cc07743fc3240cac6af31e4d4a8f535cae71...</td>\n",
              "    </tr>\n",
              "  </tbody>\n",
              "</table>\n",
              "<p>1983 rows × 4 columns</p>\n",
              "</div>"
            ],
            "text/plain": [
              "                                                  tx_id  ...                                           parents \n",
              "1     79c51c9d4124c5cbb37a85263748dcf44e182dff83561f...  ...  6eb38fad135e38a93cb47a15a5f953cbc0563fd84bf1ab...\n",
              "5     384718a612cc6b220a8eeaf36f9d179e70fe233e2e9068...  ...  edc82751537be6afcb21c0229d8d20916d8e742a363ab2...\n",
              "21    3733a3ce668c18863252cf6baa3a1e6e6eaadb31768bb5...  ...  50d949aaf11386f7f073ead1dbd7c39d9604e3c993738a...\n",
              "22    011d65e7eb10e378e7370399cda7af0db648d90c30ca28...  ...  e9729cc3da87c37f1a3cc11d8ad2b5c4e15dfc028dace8...\n",
              "27    396b15f856ce55cba0a7d20af3a7b770bd4e1e66fa75de...  ...  7ddb85d2922cda6c186f18e4b3f722b79a8c03f7dbf20e...\n",
              "...                                                 ...  ...                                                ...\n",
              "5171  f0d09ed4f5b853263a10811a7d7790e18ad4aeb861fa34...  ...  15a77c352fe0626402a09e7ffe914037935e5cb6445dbb...\n",
              "5172  28698e7ac30ac290c7c3c832c2bf88a8be670ad22124b1...  ...  895675cd32c7875b9e3d8a252b9ba6e7ce3fd1fa659c9c...\n",
              "5179  e470cd82a5931ca8102411595f97e55ce361b0a596d058...  ...  068a854ced4deba852d650f39a930661bb295e24866764...\n",
              "5203  eeb8be5cacf39d24fc397912b39463350acf4786a451b7...  ...  89ac04933f1e900b14a64d41fb9ee7448d026674039cc7...\n",
              "5211  88a8c7118ac82199523eb10670f49c8b7f5ac82d404907...  ...  33c7c7bcb1cc07743fc3240cac6af31e4d4a8f535cae71...\n",
              "\n",
              "[1983 rows x 4 columns]"
            ]
          },
          "metadata": {
            "tags": []
          },
          "execution_count": 26
        }
      ]
    },
    {
      "cell_type": "code",
      "metadata": {
        "colab": {
          "base_uri": "https://localhost:8080/"
        },
        "id": "M1H6YGGeeDKV",
        "outputId": "23cede6e-b081-4c00-9994-b0e066234ece"
      },
      "source": [
        "parent_count = len(df['parents '])\n",
        "parent_count"
      ],
      "execution_count": 27,
      "outputs": [
        {
          "output_type": "execute_result",
          "data": {
            "text/plain": [
              "1983"
            ]
          },
          "metadata": {
            "tags": []
          },
          "execution_count": 27
        }
      ]
    },
    {
      "cell_type": "code",
      "metadata": {
        "colab": {
          "base_uri": "https://localhost:8080/"
        },
        "id": "wa62LsGWeYBV",
        "outputId": "7de779ef-f662-43e3-d53a-08b7b3819d2f"
      },
      "source": [
        "sum_total_count = parent_count + Count_NAN\n",
        "sum_total_count"
      ],
      "execution_count": 28,
      "outputs": [
        {
          "output_type": "execute_result",
          "data": {
            "text/plain": [
              "5197"
            ]
          },
          "metadata": {
            "tags": []
          },
          "execution_count": 28
        }
      ]
    },
    {
      "cell_type": "code",
      "metadata": {
        "colab": {
          "base_uri": "https://localhost:8080/",
          "height": 402
        },
        "id": "CpFhBbYnfuTh",
        "outputId": "088be352-4480-4772-bdda-b6d6a9f27f3f"
      },
      "source": [
        "#we have created the dataset that contain the final transaction here. \n",
        "df4 = pd.concat([df,df3])\n",
        "df4"
      ],
      "execution_count": 29,
      "outputs": [
        {
          "output_type": "execute_result",
          "data": {
            "text/html": [
              "<div>\n",
              "<style scoped>\n",
              "    .dataframe tbody tr th:only-of-type {\n",
              "        vertical-align: middle;\n",
              "    }\n",
              "\n",
              "    .dataframe tbody tr th {\n",
              "        vertical-align: top;\n",
              "    }\n",
              "\n",
              "    .dataframe thead th {\n",
              "        text-align: right;\n",
              "    }\n",
              "</style>\n",
              "<table border=\"1\" class=\"dataframe\">\n",
              "  <thead>\n",
              "    <tr style=\"text-align: right;\">\n",
              "      <th></th>\n",
              "      <th>tx_id</th>\n",
              "      <th>fee</th>\n",
              "      <th>weight</th>\n",
              "      <th>parents</th>\n",
              "    </tr>\n",
              "  </thead>\n",
              "  <tbody>\n",
              "    <tr>\n",
              "      <th>1</th>\n",
              "      <td>79c51c9d4124c5cbb37a85263748dcf44e182dff83561f...</td>\n",
              "      <td>682</td>\n",
              "      <td>1136</td>\n",
              "      <td>6eb38fad135e38a93cb47a15a5f953cbc0563fd84bf1ab...</td>\n",
              "    </tr>\n",
              "    <tr>\n",
              "      <th>5</th>\n",
              "      <td>384718a612cc6b220a8eeaf36f9d179e70fe233e2e9068...</td>\n",
              "      <td>452</td>\n",
              "      <td>1616</td>\n",
              "      <td>edc82751537be6afcb21c0229d8d20916d8e742a363ab2...</td>\n",
              "    </tr>\n",
              "    <tr>\n",
              "      <th>21</th>\n",
              "      <td>3733a3ce668c18863252cf6baa3a1e6e6eaadb31768bb5...</td>\n",
              "      <td>366</td>\n",
              "      <td>1132</td>\n",
              "      <td>50d949aaf11386f7f073ead1dbd7c39d9604e3c993738a...</td>\n",
              "    </tr>\n",
              "    <tr>\n",
              "      <th>22</th>\n",
              "      <td>011d65e7eb10e378e7370399cda7af0db648d90c30ca28...</td>\n",
              "      <td>286</td>\n",
              "      <td>1136</td>\n",
              "      <td>e9729cc3da87c37f1a3cc11d8ad2b5c4e15dfc028dace8...</td>\n",
              "    </tr>\n",
              "    <tr>\n",
              "      <th>27</th>\n",
              "      <td>396b15f856ce55cba0a7d20af3a7b770bd4e1e66fa75de...</td>\n",
              "      <td>225</td>\n",
              "      <td>900</td>\n",
              "      <td>7ddb85d2922cda6c186f18e4b3f722b79a8c03f7dbf20e...</td>\n",
              "    </tr>\n",
              "    <tr>\n",
              "      <th>...</th>\n",
              "      <td>...</td>\n",
              "      <td>...</td>\n",
              "      <td>...</td>\n",
              "      <td>...</td>\n",
              "    </tr>\n",
              "    <tr>\n",
              "      <th>5208</th>\n",
              "      <td>4059913e477fc7bbb918ca3c258a96f61bedda5b12ba91...</td>\n",
              "      <td>862</td>\n",
              "      <td>576</td>\n",
              "      <td>NaN</td>\n",
              "    </tr>\n",
              "    <tr>\n",
              "      <th>5209</th>\n",
              "      <td>e0b5d2fe598fccdd716df743323346da227dfc9d2a6c3e...</td>\n",
              "      <td>850</td>\n",
              "      <td>568</td>\n",
              "      <td>NaN</td>\n",
              "    </tr>\n",
              "    <tr>\n",
              "      <th>5210</th>\n",
              "      <td>e33973618a9774aeb85548368efeaddb206ef206717e72...</td>\n",
              "      <td>1496</td>\n",
              "      <td>1488</td>\n",
              "      <td>NaN</td>\n",
              "    </tr>\n",
              "    <tr>\n",
              "      <th>5212</th>\n",
              "      <td>4c5b18c0870665958fc2a377e425b70f8d01f03395af72...</td>\n",
              "      <td>862</td>\n",
              "      <td>576</td>\n",
              "      <td>NaN</td>\n",
              "    </tr>\n",
              "    <tr>\n",
              "      <th>5213</th>\n",
              "      <td>631dee801c00241fc61bccc56112cf7670ce7150f4c642...</td>\n",
              "      <td>850</td>\n",
              "      <td>568</td>\n",
              "      <td>NaN</td>\n",
              "    </tr>\n",
              "  </tbody>\n",
              "</table>\n",
              "<p>5197 rows × 4 columns</p>\n",
              "</div>"
            ],
            "text/plain": [
              "                                                  tx_id  ...                                           parents \n",
              "1     79c51c9d4124c5cbb37a85263748dcf44e182dff83561f...  ...  6eb38fad135e38a93cb47a15a5f953cbc0563fd84bf1ab...\n",
              "5     384718a612cc6b220a8eeaf36f9d179e70fe233e2e9068...  ...  edc82751537be6afcb21c0229d8d20916d8e742a363ab2...\n",
              "21    3733a3ce668c18863252cf6baa3a1e6e6eaadb31768bb5...  ...  50d949aaf11386f7f073ead1dbd7c39d9604e3c993738a...\n",
              "22    011d65e7eb10e378e7370399cda7af0db648d90c30ca28...  ...  e9729cc3da87c37f1a3cc11d8ad2b5c4e15dfc028dace8...\n",
              "27    396b15f856ce55cba0a7d20af3a7b770bd4e1e66fa75de...  ...  7ddb85d2922cda6c186f18e4b3f722b79a8c03f7dbf20e...\n",
              "...                                                 ...  ...                                                ...\n",
              "5208  4059913e477fc7bbb918ca3c258a96f61bedda5b12ba91...  ...                                                NaN\n",
              "5209  e0b5d2fe598fccdd716df743323346da227dfc9d2a6c3e...  ...                                                NaN\n",
              "5210  e33973618a9774aeb85548368efeaddb206ef206717e72...  ...                                                NaN\n",
              "5212  4c5b18c0870665958fc2a377e425b70f8d01f03395af72...  ...                                                NaN\n",
              "5213  631dee801c00241fc61bccc56112cf7670ce7150f4c642...  ...                                                NaN\n",
              "\n",
              "[5197 rows x 4 columns]"
            ]
          },
          "metadata": {
            "tags": []
          },
          "execution_count": 29
        }
      ]
    },
    {
      "cell_type": "code",
      "metadata": {
        "colab": {
          "base_uri": "https://localhost:8080/",
          "height": 402
        },
        "id": "xhM2GEJkgLcB",
        "outputId": "54581e3b-c045-4ea4-813d-8ffc52fac953"
      },
      "source": [
        "# hence now just extract the tx_id col from the above. and make it into a csv file.\n",
        "df5=df4.drop(['fee','weight','parents '],axis=1)\n",
        "df5\n"
      ],
      "execution_count": 30,
      "outputs": [
        {
          "output_type": "execute_result",
          "data": {
            "text/html": [
              "<div>\n",
              "<style scoped>\n",
              "    .dataframe tbody tr th:only-of-type {\n",
              "        vertical-align: middle;\n",
              "    }\n",
              "\n",
              "    .dataframe tbody tr th {\n",
              "        vertical-align: top;\n",
              "    }\n",
              "\n",
              "    .dataframe thead th {\n",
              "        text-align: right;\n",
              "    }\n",
              "</style>\n",
              "<table border=\"1\" class=\"dataframe\">\n",
              "  <thead>\n",
              "    <tr style=\"text-align: right;\">\n",
              "      <th></th>\n",
              "      <th>tx_id</th>\n",
              "    </tr>\n",
              "  </thead>\n",
              "  <tbody>\n",
              "    <tr>\n",
              "      <th>1</th>\n",
              "      <td>79c51c9d4124c5cbb37a85263748dcf44e182dff83561f...</td>\n",
              "    </tr>\n",
              "    <tr>\n",
              "      <th>5</th>\n",
              "      <td>384718a612cc6b220a8eeaf36f9d179e70fe233e2e9068...</td>\n",
              "    </tr>\n",
              "    <tr>\n",
              "      <th>21</th>\n",
              "      <td>3733a3ce668c18863252cf6baa3a1e6e6eaadb31768bb5...</td>\n",
              "    </tr>\n",
              "    <tr>\n",
              "      <th>22</th>\n",
              "      <td>011d65e7eb10e378e7370399cda7af0db648d90c30ca28...</td>\n",
              "    </tr>\n",
              "    <tr>\n",
              "      <th>27</th>\n",
              "      <td>396b15f856ce55cba0a7d20af3a7b770bd4e1e66fa75de...</td>\n",
              "    </tr>\n",
              "    <tr>\n",
              "      <th>...</th>\n",
              "      <td>...</td>\n",
              "    </tr>\n",
              "    <tr>\n",
              "      <th>5208</th>\n",
              "      <td>4059913e477fc7bbb918ca3c258a96f61bedda5b12ba91...</td>\n",
              "    </tr>\n",
              "    <tr>\n",
              "      <th>5209</th>\n",
              "      <td>e0b5d2fe598fccdd716df743323346da227dfc9d2a6c3e...</td>\n",
              "    </tr>\n",
              "    <tr>\n",
              "      <th>5210</th>\n",
              "      <td>e33973618a9774aeb85548368efeaddb206ef206717e72...</td>\n",
              "    </tr>\n",
              "    <tr>\n",
              "      <th>5212</th>\n",
              "      <td>4c5b18c0870665958fc2a377e425b70f8d01f03395af72...</td>\n",
              "    </tr>\n",
              "    <tr>\n",
              "      <th>5213</th>\n",
              "      <td>631dee801c00241fc61bccc56112cf7670ce7150f4c642...</td>\n",
              "    </tr>\n",
              "  </tbody>\n",
              "</table>\n",
              "<p>5197 rows × 1 columns</p>\n",
              "</div>"
            ],
            "text/plain": [
              "                                                  tx_id\n",
              "1     79c51c9d4124c5cbb37a85263748dcf44e182dff83561f...\n",
              "5     384718a612cc6b220a8eeaf36f9d179e70fe233e2e9068...\n",
              "21    3733a3ce668c18863252cf6baa3a1e6e6eaadb31768bb5...\n",
              "22    011d65e7eb10e378e7370399cda7af0db648d90c30ca28...\n",
              "27    396b15f856ce55cba0a7d20af3a7b770bd4e1e66fa75de...\n",
              "...                                                 ...\n",
              "5208  4059913e477fc7bbb918ca3c258a96f61bedda5b12ba91...\n",
              "5209  e0b5d2fe598fccdd716df743323346da227dfc9d2a6c3e...\n",
              "5210  e33973618a9774aeb85548368efeaddb206ef206717e72...\n",
              "5212  4c5b18c0870665958fc2a377e425b70f8d01f03395af72...\n",
              "5213  631dee801c00241fc61bccc56112cf7670ce7150f4c642...\n",
              "\n",
              "[5197 rows x 1 columns]"
            ]
          },
          "metadata": {
            "tags": []
          },
          "execution_count": 30
        }
      ]
    },
    {
      "cell_type": "code",
      "metadata": {
        "colab": {
          "base_uri": "https://localhost:8080/"
        },
        "id": "eoG7xadMhC1y",
        "outputId": "4121237b-66f6-4b9d-903e-362ed34d678a"
      },
      "source": [
        "from google.colab import drive\n",
        "drive.mount('drive')"
      ],
      "execution_count": 32,
      "outputs": [
        {
          "output_type": "stream",
          "text": [
            "Mounted at drive\n"
          ],
          "name": "stdout"
        }
      ]
    },
    {
      "cell_type": "code",
      "metadata": {
        "id": "QXrV0byEhJyP"
      },
      "source": [
        "df5.to_csv('Block.txt')\n",
        "!cp Block.txt \"drive/My Drive/\""
      ],
      "execution_count": 34,
      "outputs": []
    }
  ]
}